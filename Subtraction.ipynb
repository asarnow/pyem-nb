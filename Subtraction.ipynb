{
 "cells": [
  {
   "cell_type": "code",
   "execution_count": 8,
   "metadata": {
    "collapsed": false
   },
   "outputs": [],
   "source": [
    "import matplotlib.pyplot as plt\n",
    "import numpy as np\n",
    "import pyfftw\n",
    "from pyfftw.interfaces.numpy_fft import fftshift\n",
    "from pyfftw.interfaces.numpy_fft import ifftshift\n",
    "from pyfftw.interfaces.numpy_fft import rfftn\n",
    "from pyfftw.interfaces.numpy_fft import irfftn\n",
    "from pyfftw.interfaces.numpy_fft import rfft2\n",
    "from pyfftw.interfaces.numpy_fft import irfft2\n",
    "import scipy as sp\n",
    "import seaborn as sns\n",
    "\n",
    "from pyem.ctf import ctf_freqs\n",
    "from pyem.ctf import eval_ctf\n",
    "from pyem import mrc\n",
    "from pyem.star import parse_star\n",
    "from pyem.star import calculate_apix\n",
    "from pyem.util import *\n",
    "from pyem.vop import *\n",
    "\n",
    "%matplotlib inline\n",
    "sns.set()\n",
    "pyfftw.interfaces.cache.enable()"
   ]
  },
  {
   "cell_type": "code",
   "execution_count": null,
   "metadata": {
    "collapsed": true
   },
   "outputs": [],
   "source": [
    "def radial_sum(data, center=(0,0), r=None):\n",
    "    if r is None:\n",
    "        y, x = np.indices((data.shape))\n",
    "        r = np.sqrt((x - center[0])**2 + (y - center[1])**2)\n",
    "        r = r.astype(np.int)\n",
    "#     radialsum = sp.stats.binned_statistic(r.ravel(), data.ravel(), \"sum\", 192)\n",
    "    tbin = np.bincount(r.ravel(), data.ravel())\n",
    "    return tbin"
   ]
  },
  {
   "cell_type": "code",
   "execution_count": null,
   "metadata": {
    "collapsed": true
   },
   "outputs": [],
   "source": [
    "def fourier_ring_correlation(p1, p2, r=None):\n",
    "    center = (0, p1.shape[0] // 2)\n",
    "    fc = p1 * np.conj(p2)\n",
    "    fcr = radial_sum(np.real(fc), center, r)\n",
    "    fcc = radial_sum(np.imag(fc), center, r)\n",
    "    mag = np.sqrt(radial_sum(np.abs(p1)**2, center, r) * \n",
    "                  radial_sum(np.abs(p2)**2, center, r))\n",
    "    frc = (fcr + fcc*1j) / mag\n",
    "    return frc"
   ]
  },
  {
   "cell_type": "code",
   "execution_count": 2,
   "metadata": {
    "collapsed": true
   },
   "outputs": [],
   "source": [
    "def bincorr(p1, p2, bins):\n",
    "    bflat = bins.reshape(-1)\n",
    "    p1flat = p1.reshape(-1)\n",
    "    p2flat = p2.reshape(-1)\n",
    "    fc = p1flat * np.conj(p2flat)\n",
    "    fcr = np.bincount(bflat, np.real(fc))\n",
    "    fcc = np.bincount(bflat, np.imag(fc))\n",
    "    mag = np.sqrt(np.bincount(bflat, np.abs(p1flat)**2) * \n",
    "                  np.bincount(bflat, np.abs(p2flat)**2))\n",
    "    frc = (fcr + fcc*1j) / mag\n",
    "    return frc"
   ]
  },
  {
   "cell_type": "code",
   "execution_count": 3,
   "metadata": {
    "collapsed": true
   },
   "outputs": [],
   "source": [
    "def vol_ft(vol, pfac=2, threads=8):\n",
    "    \"\"\" Returns a centered, Nyquist-limited, zero-padded, interpolation-ready 3D Fourier transform.\n",
    "    :param vol: Volume to be Fourier transformed.\n",
    "    :param pfac: Size factor for zero-padding.\n",
    "    \"\"\"\n",
    "    vol = grid_correct(np.double(vol), pfac=pfac, order=1)\n",
    "    padvol = np.pad(vol, (vol.shape[0] * pfac - vol.shape[0]) // 2, \"constant\")\n",
    "    ft = rfftn(ifftshift(padvol), padvol.shape, threads=threads)\n",
    "    ftc = np.zeros((ft.shape[0] + 3, ft.shape[1] + 3, ft.shape[2]), dtype=np.complex128)\n",
    "    fill_ft(ft, ftc, vol.shape[0])\n",
    "    return ftc"
   ]
  },
  {
   "cell_type": "code",
   "execution_count": 4,
   "metadata": {
    "collapsed": true
   },
   "outputs": [],
   "source": [
    "df = parse_star(\"meta/tpc1_data_5stack.star\", keep_index=False)"
   ]
  },
  {
   "cell_type": "code",
   "execution_count": null,
   "metadata": {
    "collapsed": false
   },
   "outputs": [],
   "source": [
    "df.columns"
   ]
  },
  {
   "cell_type": "code",
   "execution_count": null,
   "metadata": {
    "collapsed": true
   },
   "outputs": [],
   "source": [
    "tpc1 = mrc.read(\"maps/tpc1_wholemap.mrc\", inc_header=False, compat=\"relion\")\n",
    "vsd2 = mrc.read(\"maps/tpc1_submap.mrc\", inc_header=False, compat=\"relion\")"
   ]
  },
  {
   "cell_type": "code",
   "execution_count": null,
   "metadata": {
    "collapsed": false
   },
   "outputs": [],
   "source": [
    "tpc1_ft = vol_ft(tpc1)\n",
    "vsd2_ft = vol_ft(vsd2)"
   ]
  },
  {
   "cell_type": "code",
   "execution_count": null,
   "metadata": {
    "collapsed": true
   },
   "outputs": [],
   "source": [
    "rot1 = euler2rot(0, 0, 0)\n",
    "rot2 = euler2rot(0, 0, np.deg2rad(1))"
   ]
  },
  {
   "cell_type": "code",
   "execution_count": 5,
   "metadata": {
    "collapsed": false
   },
   "outputs": [],
   "source": [
    "sz = 256\n",
    "apix = 1.2156\n",
    "center = (0, sz // 2)\n",
    "y, x = np.indices((sz, sz // 2 + 1))\n",
    "r = np.sqrt((x - center[0])**2 + (y - center[1])**2)\n",
    "r = r.astype(np.int)\n",
    "# rbin = (20* r/r.max()).astype(np.int)\n",
    "r = fftshift(r, axes=0)  # Pre-shift r, leave FFTs shifted."
   ]
  },
  {
   "cell_type": "code",
   "execution_count": 31,
   "metadata": {
    "collapsed": false
   },
   "outputs": [],
   "source": [
    "# s, a = ctf_freqs((sz, sz), apix, full=False)\n",
    "# s = fftshift(s)\n",
    "# a = fftshift(a)\n",
    "sx, sy = np.meshgrid(np.fft.rfftfreq(sz), np.fft.fftfreq(sz))\n",
    "s = np.sqrt(sx**2 + sy**2)\n",
    "a = np.arctan2(sy, sx)"
   ]
  },
  {
   "cell_type": "code",
   "execution_count": 32,
   "metadata": {
    "collapsed": true
   },
   "outputs": [],
   "source": [
    "ptcl = df.iloc[0]\n",
    "apix = calculate_apix(ptcl)\n",
    "c = eval_ctf(s / apix, a,\n",
    "             ptcl[\"rlnDefocusU\"], ptcl[\"rlnDefocusV\"],\n",
    "             angast=ptcl[\"rlnDefocusAngle\"], phase=ptcl[\"rlnPhaseShift\"], kv=ptcl[\"rlnVoltage\"],\n",
    "             ac=ptcl[\"rlnAmplitudeContrast\"], cs=ptcl[\"rlnSphericalAberration\"],\n",
    "             bf=0, lp=2)"
   ]
  },
  {
   "cell_type": "code",
   "execution_count": null,
   "metadata": {
    "collapsed": true
   },
   "outputs": [],
   "source": [
    "xshift, yshift = ptcl[\"rlnOriginX\"], ptcl[\"rlnOriginY\"]\n",
    "idx, stack = ptcl[\"rlnImageName\"].split(\"@\")\n",
    "# p1 = rfft2()\n",
    "p1r = mrc.read_imgs(stack, int(idx), num=1).squeeze()\n",
    "p1 = rfft2(p1r, threads=4)"
   ]
  },
  {
   "cell_type": "code",
   "execution_count": null,
   "metadata": {
    "collapsed": false
   },
   "outputs": [],
   "source": [
    "pshift = np.exp(-2 * np.pi * 1j * (xshift * sx + yshift * sy))\n",
    "p2 = interpolate_slice_numba(vsd2_ft, rot1) * pshift\n",
    "p3 = interpolate_slice_numba(tpc1_ft, rot2) * pshift\n",
    "frc = np.abs(bincorr(p1, p3 * c, r))\n",
    "p1s = p1 - p2 * c * frc[r]\n",
    "p1s[np.isnan(p1s)] = 0\n",
    "new_image = fftshift(irfft2(p1s))"
   ]
  },
  {
   "cell_type": "code",
   "execution_count": null,
   "metadata": {
    "collapsed": false
   },
   "outputs": [],
   "source": [
    "f, ax = plt.subplots(2, 2, figsize=(5,5))\n",
    "f.tight_layout()\n",
    "ax[0,0].imshow(p1r)\n",
    "ax[0,1].imshow(fftshift(irfft2(p1)) - fftshift(irfft2(p2 * c)))\n",
    "ax[1,0].imshow((irfft2(p1)))\n",
    "ax[1,1].imshow(new_image)"
   ]
  },
  {
   "cell_type": "code",
   "execution_count": null,
   "metadata": {
    "collapsed": true
   },
   "outputs": [],
   "source": []
  },
  {
   "cell_type": "code",
   "execution_count": null,
   "metadata": {
    "collapsed": true
   },
   "outputs": [],
   "source": []
  }
 ],
 "metadata": {
  "kernelspec": {
   "display_name": "Python 2",
   "language": "python",
   "name": "python2"
  },
  "language_info": {
   "codemirror_mode": {
    "name": "ipython",
    "version": 2
   },
   "file_extension": ".py",
   "mimetype": "text/x-python",
   "name": "python",
   "nbconvert_exporter": "python",
   "pygments_lexer": "ipython2",
   "version": "2.7.13"
  },
  "toc": {
   "toc_cell": false,
   "toc_number_sections": true,
   "toc_threshold": 6,
   "toc_window_display": false
  }
 },
 "nbformat": 4,
 "nbformat_minor": 0
}
