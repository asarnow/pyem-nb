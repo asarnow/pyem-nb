{
 "cells": [
  {
   "cell_type": "code",
   "execution_count": 3,
   "metadata": {
    "collapsed": false
   },
   "outputs": [],
   "source": [
    "import matplotlib.pyplot as plt\n",
    "import numpy as np\n",
    "import pyfftw\n",
    "from pyfftw.interfaces.numpy_fft import fftshift\n",
    "from pyfftw.interfaces.numpy_fft import ifftshift\n",
    "from pyfftw.interfaces.numpy_fft import rfftn\n",
    "from pyfftw.interfaces.numpy_fft import irfftn\n",
    "from pyfftw.interfaces.numpy_fft import rfft2\n",
    "from pyfftw.interfaces.numpy_fft import irfft2\n",
    "import scipy as sp\n",
    "import seaborn as sns\n",
    "\n",
    "from pyem.ctf import ctf_freqs\n",
    "from pyem.ctf import eval_ctf\n",
    "from pyem import mrc\n",
    "from pyem.util import *\n",
    "from pyem.vop import *\n",
    "\n",
    "%matplotlib inline\n",
    "sns.set()\n",
    "pyfftw.interfaces.cache.enable()"
   ]
  },
  {
   "cell_type": "code",
   "execution_count": 1,
   "metadata": {
    "collapsed": true
   },
   "outputs": [],
   "source": [
    "def radial_sum(data, center=(0,0), r=None):\n",
    "    if r is None:\n",
    "        y, x = np.indices((data.shape))\n",
    "        r = np.sqrt((x - center[0])**2 + (y - center[1])**2)\n",
    "        r = r.astype(np.int)\n",
    "#     radialsum = sp.stats.binned_statistic(r.ravel(), data.ravel(), \"sum\", 192)\n",
    "    tbin = np.bincount(r.ravel(), data.ravel())\n",
    "    return tbin"
   ]
  },
  {
   "cell_type": "code",
   "execution_count": null,
   "metadata": {
    "collapsed": true
   },
   "outputs": [],
   "source": [
    "def fourier_ring_correlation(p1, p2, r=None):\n",
    "    center = (0, p1.shape[0] // 2)\n",
    "    fc = p1 * np.conj(p2)\n",
    "    fcr = radial_sum(np.real(fc), center, r)\n",
    "    fcc = radial_sum(np.imag(fc), center, r)\n",
    "    mag = np.sqrt(radial_sum(np.abs(p1)**2, center, r) * \n",
    "                  radial_sum(np.abs(p2)**2, center, r))\n",
    "    frc = (fcr + fcc*1j) / mag\n",
    "    return frc"
   ]
  },
  {
   "cell_type": "code",
   "execution_count": null,
   "metadata": {
    "collapsed": true
   },
   "outputs": [],
   "source": [
    "center = (0,96)\n",
    "y, x = np.indices((p1.shape))\n",
    "r = np.sqrt((x - center[0])**2 + (y - center[1])**2)\n",
    "r = r.astype(np.int)\n",
    "# rbin = (20* r/r.max()).astype(np.int)\n",
    "r = fftshift(r, axes=0)  # Pre-shift r, leave FFTs shifted.\n",
    "rflat = r.reshape(-1)"
   ]
  },
  {
   "cell_type": "code",
   "execution_count": null,
   "metadata": {
    "collapsed": true
   },
   "outputs": [],
   "source": [
    "p1flat = p1.reshape(-1)\n",
    "p2flat = p2.reshape(-1)\n",
    "fc = p1flat * np.conj(p2flat)\n",
    "fcr = np.bincount(rflat, np.real(fc))\n",
    "fcc = np.bincount(rflat, np.imag(fc))\n",
    "mag = np.sqrt(np.bincount(rflat, np.abs(p1flat)**2) * \n",
    "              np.bincount(rflat, np.abs(p2flat)**2))\n",
    "frc = (fcr + fcc*1j) / mag"
   ]
  },
  {
   "cell_type": "code",
   "execution_count": null,
   "metadata": {
    "collapsed": true
   },
   "outputs": [],
   "source": [
    "c = ctf(args)"
   ]
  },
  {
   "cell_type": "code",
   "execution_count": null,
   "metadata": {
    "collapsed": true
   },
   "outputs": [],
   "source": [
    "# a.flat -= b.ravel() * c.ravel() * frc[r.ravel()]\n",
    "a -= b * c * frc[r]"
   ]
  },
  {
   "cell_type": "code",
   "execution_count": null,
   "metadata": {
    "collapsed": true
   },
   "outputs": [],
   "source": [
    "p1 = rfft2(exp_image)\n",
    "pshift = np.exp(-2 * np.pi * 1j * (xshift * sx + yshift * sy))\n",
    "p2 = interpolate_slice_numba(submap) * pshift\n",
    "p3 = interpolate_slice_numba(refmap) * pshift\n",
    "c = ctf(exp_image_params)\n",
    "frc = fourier_ring_correlation(p1, p3 * c)\n",
    "p1 -= p2 * c * frc[r]\n",
    "new_image = irfft2(p1)"
   ]
  }
 ],
 "metadata": {
  "kernelspec": {
   "display_name": "Python 2",
   "language": "python",
   "name": "python2"
  },
  "language_info": {
   "codemirror_mode": {
    "name": "ipython",
    "version": 2
   },
   "file_extension": ".py",
   "mimetype": "text/x-python",
   "name": "python",
   "nbconvert_exporter": "python",
   "pygments_lexer": "ipython2",
   "version": "2.7.13"
  },
  "toc": {
   "toc_cell": false,
   "toc_number_sections": true,
   "toc_threshold": 6,
   "toc_window_display": false
  }
 },
 "nbformat": 4,
 "nbformat_minor": 0
}
