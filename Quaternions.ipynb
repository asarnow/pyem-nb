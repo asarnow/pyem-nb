{
 "cells": [
  {
   "cell_type": "code",
   "execution_count": 1,
   "metadata": {
    "collapsed": true
   },
   "outputs": [],
   "source": [
    "from builtins import range\n",
    "import numba\n",
    "import numpy as np\n",
    "import time\n",
    "from pyem.util import rot2euler\n",
    "from pyem.util import euler2rot\n",
    "from pyem.util import euler2quat\n",
    "from pyem.util import quat2euler\n",
    "from pyem.util import quat2rot\n",
    "from pyem.util import qconj\n",
    "from pyem.util import qtimes\n",
    "from pyem.util import qslerp"
   ]
  },
  {
   "cell_type": "code",
   "execution_count": 3,
   "metadata": {
    "collapsed": false
   },
   "outputs": [],
   "source": [
    "@numba.jit\n",
    "def cross(vec1, vec2):\n",
    "    \"\"\" Calculate the cross product of two 3d vectors. \"\"\"\n",
    "    result = np.zeros(3, dtype=vec2.dtype)\n",
    "    return cross_(vec1, vec2, result)\n",
    "\n",
    "\n",
    "@numba.jit(nopython=True)\n",
    "def cross_(vec1, vec2, result):\n",
    "    \"\"\" Calculate the cross product of two 3d vectors. \"\"\"\n",
    "    a1, a2, a3 = vec1[0], vec1[1], vec1[2]\n",
    "    b1, b2, b3 = vec2[0], vec2[1], vec2[2]\n",
    "    result[0] = a2 * b3 - a3 * b2\n",
    "    result[1] = a3 * b1 - a1 * b3\n",
    "    result[2] = a1 * b2 - a2 * b1\n",
    "    return result\n",
    "\n",
    "\n",
    "@numba.jit(nopython=True)\n",
    "def cross3(vec1, vec2, result):\n",
    "    \"\"\" Calculate the cross product of two 3d vectors. \"\"\"\n",
    "    a1, a2, a3 = double(vec1[0]), double(vec1[1]), double(vec1[2])\n",
    "    b1, b2, b3 = double(vec2[0]), double(vec2[1]), double(vec2[2])\n",
    "    result[0] = a2 * b3 - a3 * b2\n",
    "    result[1] = a3 * b1 - a1 * b3\n",
    "    result[2] = a1 * b2 - a2 * b1"
   ]
  },
  {
   "cell_type": "code",
   "execution_count": 4,
   "metadata": {
    "collapsed": true,
    "scrolled": false
   },
   "outputs": [],
   "source": [
    "# @numba.jit(cache=True)\n",
    "# def qconj(q, out=None):\n",
    "#     if out is None:\n",
    "#         out = q.copy()\n",
    "#     if q.ndim == 1:\n",
    "#         return _qconj(q, out)\n",
    "#     else:\n",
    "#         return _qconj_gu(q, out)\n",
    "\n",
    "\n",
    "@numba.jit(cache=True, nopython=True)\n",
    "def _qconj(q, p):\n",
    "    p[0] = q[0]\n",
    "    p[1] = -q[1]\n",
    "    p[2] = -q[2]\n",
    "    p[3] = -q[3]\n",
    "    return p\n",
    "\n",
    "\n",
    "@numba.guvectorize([\"void(float64[:], float64[:])\"],\n",
    "                   \"(m)->(m)\",\n",
    "                   nopython=True)\n",
    "def qconj(q, p):\n",
    "    _qconj(q, p)\n",
    "\n",
    "\n",
    "# @numba.guvectorize([\"void(float64[:,:], float64[:,:])\"],\n",
    "#                    \"(m,n)->(m,n)\",\n",
    "#                    nopython=True)\n",
    "# def _qconj_gu(q, p):\n",
    "#     _qconj(q[0], p[0])\n",
    "\n",
    "\n",
    "# @numba.jit(cache=True)\n",
    "# def qtimes(q1, q2, out=None):\n",
    "#     if out is None:\n",
    "#         out = q1.copy()\n",
    "#     if q1.ndim == 1:\n",
    "#         return _qtimes(q1, q2, out)\n",
    "#     else:\n",
    "#         return _qtimes_gu(q1, q2, out)\n",
    "\n",
    "\n",
    "@numba.jit(cache=True, nopython=True)\n",
    "def _qtimes(q1, q2, q3):\n",
    "    q3[0] = q1[0] * q2[0] - (q1[1] * q2[1] + q1[2] * q2[2] + q1[3] * q2[3])\n",
    "    q3[1] = q1[2] * q2[3] - q1[3] * q2[2] + q1[0] * q2[1] + q2[0] * q1[1]\n",
    "    q3[2] = q1[3] * q2[1] - q1[1] * q2[3] + q1[0] * q2[2] + q2[0] * q1[2]\n",
    "    q3[3] = q1[1] * q2[2] - q1[2] * q2[1] + q1[0] * q2[3] + q2[0] * q1[3]\n",
    "    return q3\n",
    "\n",
    "\n",
    "# @numba.guvectorize([\"void(float64[:,:], float64[:,:], float64[:,:])\"],\n",
    "#                    \"(m,n),(m,n)->(m,n)\",\n",
    "#                    nopython=True)\n",
    "# def _qtimes_gu(q1, q2, q3):\n",
    "#     _qtimes(q1, q2, q3)\n",
    "\n",
    "\n",
    "@numba.guvectorize([\"void(float64[:], float64[:], float64[:])\"],\n",
    "                   \"(m),(m)->(m)\",\n",
    "                   nopython=True)\n",
    "def qtimes(q1, q2, q3):\n",
    "    _qtimes(q1, q2, q3)\n",
    "\n",
    "\n",
    "@numba.jit(cache=True, nopython=True)\n",
    "def qslerp(q1, q2, t):\n",
    "    cos_half_theta = np.dot(q1, q2)\n",
    "    if cos_half_theta >= 1.0:\n",
    "        return q1.copy()\n",
    "    half_theta = np.arccos(cos_half_theta)\n",
    "    sin_half_theta = np.sqrt(1 - cos_half_theta * cos_half_theta)\n",
    "    if np.abs(sin_half_theta) < 1E-12:\n",
    "        return (q1 + q2) / 2\n",
    "    a = np.sin((1 - t) * half_theta) / sin_half_theta\n",
    "    b = np.sin(t * half_theta) / sin_half_theta\n",
    "    return q1 * a + q2 * b\n",
    "\n",
    "\n",
    "# @numba.jit(cache=True, nopython=True)\n",
    "# def qslerp(q1, q2, t):\n",
    "#     q3 = np.zeros(t.shape[0], q1.shape[0], dtype=q1.dtype)\n",
    "#     for i in t.shape[0]:\n",
    "#         q3[i,:] = _qslerp(q1, q2, t[i])"
   ]
  },
  {
   "cell_type": "code",
   "execution_count": 5,
   "metadata": {
    "collapsed": true
   },
   "outputs": [],
   "source": [
    "qq = euler2quat(*np.deg2rad([45, 30, 30]))\n",
    "pp = euler2quat(*np.deg2rad([0, 0, 90]))\n",
    "qqr = qq.reshape(1, 4)\n",
    "ppr = pp.reshape(1, 4)\n",
    "\n",
    "rrr = np.vstack([qqr, qqr, qqr])\n",
    "sss = np.vstack([ppr, ppr, ppr])"
   ]
  },
  {
   "cell_type": "code",
   "execution_count": null,
   "metadata": {
    "collapsed": false
   },
   "outputs": [],
   "source": [
    "out = qq.copy()\n",
    "_qconj(qq, out)\n",
    "%timeit _qconj_gu(qq, out)"
   ]
  },
  {
   "cell_type": "code",
   "execution_count": 28,
   "metadata": {
    "collapsed": false
   },
   "outputs": [
    {
     "name": "stdout",
     "output_type": "stream",
     "text": [
      "The slowest run took 43.73 times longer than the fastest. This could mean that an intermediate result is being cached.\n",
      "1000000 loops, best of 3: 687 ns per loop\n"
     ]
    }
   ],
   "source": [
    "out = qqr.copy()\n",
    "%timeit _qconj_gu(qqr, out)"
   ]
  },
  {
   "cell_type": "code",
   "execution_count": 37,
   "metadata": {
    "collapsed": false
   },
   "outputs": [
    {
     "name": "stdout",
     "output_type": "stream",
     "text": [
      "The slowest run took 52.44 times longer than the fastest. This could mean that an intermediate result is being cached.\n",
      "1000000 loops, best of 3: 609 ns per loop\n",
      "The slowest run took 13.27 times longer than the fastest. This could mean that an intermediate result is being cached.\n",
      "1000000 loops, best of 3: 755 ns per loop\n",
      "The slowest run took 12.58 times longer than the fastest. This could mean that an intermediate result is being cached.\n",
      "1000000 loops, best of 3: 645 ns per loop\n",
      "The slowest run took 12.16 times longer than the fastest. This could mean that an intermediate result is being cached.\n",
      "1000000 loops, best of 3: 824 ns per loop\n"
     ]
    }
   ],
   "source": [
    "out = qq.copy()\n",
    "%timeit qconj(qq, out)\n",
    "%timeit qconj(qq)\n",
    "out = qqr.copy()\n",
    "%timeit qconj(qqr, out)\n",
    "%timeit qconj(qqr)"
   ]
  },
  {
   "cell_type": "code",
   "execution_count": null,
   "metadata": {
    "collapsed": true
   },
   "outputs": [],
   "source": []
  },
  {
   "cell_type": "code",
   "execution_count": 32,
   "metadata": {
    "collapsed": false
   },
   "outputs": [
    {
     "name": "stdout",
     "output_type": "stream",
     "text": [
      "The slowest run took 43.22 times longer than the fastest. This could mean that an intermediate result is being cached.\n",
      "1000000 loops, best of 3: 783 ns per loop\n"
     ]
    }
   ],
   "source": [
    "out = qq.copy()\n",
    "%timeit _qtimes_gu(qq, pp, out)"
   ]
  },
  {
   "cell_type": "code",
   "execution_count": 31,
   "metadata": {
    "collapsed": false
   },
   "outputs": [
    {
     "name": "stdout",
     "output_type": "stream",
     "text": [
      "The slowest run took 34.15 times longer than the fastest. This could mean that an intermediate result is being cached.\n",
      "1000000 loops, best of 3: 761 ns per loop\n"
     ]
    }
   ],
   "source": [
    "out = qqr.copy()\n",
    "%timeit _qtimes_gu(qqr, ppr, out)"
   ]
  },
  {
   "cell_type": "code",
   "execution_count": 33,
   "metadata": {
    "collapsed": false
   },
   "outputs": [
    {
     "name": "stdout",
     "output_type": "stream",
     "text": [
      "The slowest run took 32.65 times longer than the fastest. This could mean that an intermediate result is being cached.\n",
      "1000000 loops, best of 3: 949 ns per loop\n"
     ]
    }
   ],
   "source": [
    "out = qqr.copy()\n",
    "%timeit _qtimes_gu(qqr, ppr)"
   ]
  },
  {
   "cell_type": "code",
   "execution_count": 21,
   "metadata": {
    "collapsed": false
   },
   "outputs": [
    {
     "name": "stdout",
     "output_type": "stream",
     "text": [
      "The slowest run took 17.14 times longer than the fastest. This could mean that an intermediate result is being cached.\n",
      "100000 loops, best of 3: 2.16 µs per loop\n"
     ]
    }
   ],
   "source": [
    "out = qq.copy()\n",
    "%timeit qtimes(qq, pp, out)"
   ]
  },
  {
   "cell_type": "code",
   "execution_count": 24,
   "metadata": {
    "collapsed": false
   },
   "outputs": [
    {
     "name": "stdout",
     "output_type": "stream",
     "text": [
      "The slowest run took 25.25 times longer than the fastest. This could mean that an intermediate result is being cached.\n",
      "100000 loops, best of 3: 2.46 µs per loop\n"
     ]
    }
   ],
   "source": [
    "out = qqr.copy()\n",
    "%timeit qtimes(qqr, ppr, out)"
   ]
  },
  {
   "cell_type": "code",
   "execution_count": 35,
   "metadata": {
    "collapsed": false
   },
   "outputs": [
    {
     "name": "stdout",
     "output_type": "stream",
     "text": [
      "The slowest run took 56.20 times longer than the fastest. This could mean that an intermediate result is being cached.\n",
      "1000000 loops, best of 3: 802 ns per loop\n",
      "The slowest run took 13.24 times longer than the fastest. This could mean that an intermediate result is being cached.\n",
      "1000000 loops, best of 3: 846 ns per loop\n"
     ]
    }
   ],
   "source": [
    "%timeit qtimes(qq, pp)\n",
    "%timeit qtimes(qqr, ppr)"
   ]
  },
  {
   "cell_type": "code",
   "execution_count": 41,
   "metadata": {
    "collapsed": false
   },
   "outputs": [
    {
     "name": "stdout",
     "output_type": "stream",
     "text": [
      "The slowest run took 43.45 times longer than the fastest. This could mean that an intermediate result is being cached.\n",
      "1000000 loops, best of 3: 851 ns per loop\n",
      "The slowest run took 11.45 times longer than the fastest. This could mean that an intermediate result is being cached.\n",
      "1000000 loops, best of 3: 875 ns per loop\n"
     ]
    }
   ],
   "source": [
    "%timeit qtimes(rrr, qq)\n",
    "%timeit qtimes(rrr, sss)"
   ]
  },
  {
   "cell_type": "code",
   "execution_count": 3,
   "metadata": {
    "collapsed": false
   },
   "outputs": [
    {
     "name": "stdout",
     "output_type": "stream",
     "text": [
      "[1. 0. 0. 0.] 1.0\n",
      "[ 0.70710678  0.         -0.          0.70710678] 1.0\n"
     ]
    }
   ],
   "source": [
    "qq = euler2quat(*np.deg2rad([0, 0, 0]))\n",
    "pp = euler2quat(*np.deg2rad([0, 0, 90]))\n",
    "print qq, np.linalg.norm(qq)\n",
    "print pp, np.linalg.norm(pp)"
   ]
  },
  {
   "cell_type": "code",
   "execution_count": 4,
   "metadata": {
    "collapsed": false,
    "scrolled": false
   },
   "outputs": [
    {
     "ename": "TypingError",
     "evalue": "Caused By:\nTraceback (most recent call last):\n  File \"/usr/local/lib/python2.7/site-packages/numba/compiler.py\", line 240, in run\n    stage()\n  File \"/usr/local/lib/python2.7/site-packages/numba/compiler.py\", line 454, in stage_nopython_frontend\n    self.locals)\n  File \"/usr/local/lib/python2.7/site-packages/numba/compiler.py\", line 880, in type_inference_stage\n    infer.build_constraint()\n  File \"/usr/local/lib/python2.7/site-packages/numba/typeinfer.py\", line 802, in build_constraint\n    self.constrain_statement(inst)\n  File \"/usr/local/lib/python2.7/site-packages/numba/typeinfer.py\", line 961, in constrain_statement\n    self.typeof_assign(inst)\n  File \"/usr/local/lib/python2.7/site-packages/numba/typeinfer.py\", line 1023, in typeof_assign\n    self.typeof_global(inst, inst.target, value)\n  File \"/usr/local/lib/python2.7/site-packages/numba/typeinfer.py\", line 1119, in typeof_global\n    typ = self.resolve_value_type(inst, gvar.value)\n  File \"/usr/local/lib/python2.7/site-packages/numba/typeinfer.py\", line 1042, in resolve_value_type\n    raise TypingError(msg, loc=inst.loc)\nTypingError: Untyped global name 'qconj': cannot determine Numba type of <type 'numpy.ufunc'>\nFile \"../pyem/pyem/util/quat_numba.py\", line 57\n\nFailed at nopython (nopython frontend)\nUntyped global name 'qconj': cannot determine Numba type of <type 'numpy.ufunc'>\nFile \"../pyem/pyem/util/quat_numba.py\", line 57",
     "output_type": "error",
     "traceback": [
      "\u001b[0;31m---------------------------------------------------------------------------\u001b[0m",
      "\u001b[0;31mTypingError\u001b[0m                               Traceback (most recent call last)",
      "\u001b[0;32m<ipython-input-4-8c60f2c0c188>\u001b[0m in \u001b[0;36m<module>\u001b[0;34m()\u001b[0m\n\u001b[0;32m----> 1\u001b[0;31m \u001b[0mu\u001b[0m \u001b[0;34m=\u001b[0m \u001b[0mnp\u001b[0m\u001b[0;34m.\u001b[0m\u001b[0marray\u001b[0m\u001b[0;34m(\u001b[0m\u001b[0;34m[\u001b[0m\u001b[0mqslerp\u001b[0m\u001b[0;34m(\u001b[0m\u001b[0mqq\u001b[0m\u001b[0;34m,\u001b[0m \u001b[0mpp\u001b[0m\u001b[0;34m,\u001b[0m \u001b[0mt\u001b[0m\u001b[0;34m)\u001b[0m \u001b[0;32mfor\u001b[0m \u001b[0mt\u001b[0m \u001b[0;32min\u001b[0m \u001b[0mnp\u001b[0m\u001b[0;34m.\u001b[0m\u001b[0marange\u001b[0m\u001b[0;34m(\u001b[0m\u001b[0;36m0.1\u001b[0m\u001b[0;34m,\u001b[0m\u001b[0;36m1.1\u001b[0m\u001b[0;34m,\u001b[0m\u001b[0;36m0.1\u001b[0m\u001b[0;34m)\u001b[0m\u001b[0;34m]\u001b[0m\u001b[0;34m)\u001b[0m\u001b[0;34m\u001b[0m\u001b[0m\n\u001b[0m\u001b[1;32m      2\u001b[0m \u001b[0;32mprint\u001b[0m \u001b[0mu\u001b[0m\u001b[0;34m\u001b[0m\u001b[0m\n\u001b[1;32m      3\u001b[0m \u001b[0;32mprint\u001b[0m\u001b[0;34m[\u001b[0m\u001b[0mquat2euler\u001b[0m\u001b[0;34m(\u001b[0m\u001b[0muu\u001b[0m\u001b[0;34m)\u001b[0m \u001b[0;32mfor\u001b[0m \u001b[0muu\u001b[0m \u001b[0;32min\u001b[0m \u001b[0mu\u001b[0m\u001b[0;34m]\u001b[0m\u001b[0;34m\u001b[0m\u001b[0m\n",
      "\u001b[0;32m/usr/local/lib/python2.7/site-packages/numba/dispatcher.pyc\u001b[0m in \u001b[0;36m_compile_for_args\u001b[0;34m(self, *args, **kws)\u001b[0m\n\u001b[1;32m    328\u001b[0m                                 for i, err in failed_args))\n\u001b[1;32m    329\u001b[0m                 \u001b[0me\u001b[0m\u001b[0;34m.\u001b[0m\u001b[0mpatch_message\u001b[0m\u001b[0;34m(\u001b[0m\u001b[0mmsg\u001b[0m\u001b[0;34m)\u001b[0m\u001b[0;34m\u001b[0m\u001b[0m\n\u001b[0;32m--> 330\u001b[0;31m             \u001b[0;32mraise\u001b[0m \u001b[0me\u001b[0m\u001b[0;34m\u001b[0m\u001b[0m\n\u001b[0m\u001b[1;32m    331\u001b[0m \u001b[0;34m\u001b[0m\u001b[0m\n\u001b[1;32m    332\u001b[0m     \u001b[0;32mdef\u001b[0m \u001b[0minspect_llvm\u001b[0m\u001b[0;34m(\u001b[0m\u001b[0mself\u001b[0m\u001b[0;34m,\u001b[0m \u001b[0msignature\u001b[0m\u001b[0;34m=\u001b[0m\u001b[0mNone\u001b[0m\u001b[0;34m)\u001b[0m\u001b[0;34m:\u001b[0m\u001b[0;34m\u001b[0m\u001b[0m\n",
      "\u001b[0;31mTypingError\u001b[0m: Caused By:\nTraceback (most recent call last):\n  File \"/usr/local/lib/python2.7/site-packages/numba/compiler.py\", line 240, in run\n    stage()\n  File \"/usr/local/lib/python2.7/site-packages/numba/compiler.py\", line 454, in stage_nopython_frontend\n    self.locals)\n  File \"/usr/local/lib/python2.7/site-packages/numba/compiler.py\", line 880, in type_inference_stage\n    infer.build_constraint()\n  File \"/usr/local/lib/python2.7/site-packages/numba/typeinfer.py\", line 802, in build_constraint\n    self.constrain_statement(inst)\n  File \"/usr/local/lib/python2.7/site-packages/numba/typeinfer.py\", line 961, in constrain_statement\n    self.typeof_assign(inst)\n  File \"/usr/local/lib/python2.7/site-packages/numba/typeinfer.py\", line 1023, in typeof_assign\n    self.typeof_global(inst, inst.target, value)\n  File \"/usr/local/lib/python2.7/site-packages/numba/typeinfer.py\", line 1119, in typeof_global\n    typ = self.resolve_value_type(inst, gvar.value)\n  File \"/usr/local/lib/python2.7/site-packages/numba/typeinfer.py\", line 1042, in resolve_value_type\n    raise TypingError(msg, loc=inst.loc)\nTypingError: Untyped global name 'qconj': cannot determine Numba type of <type 'numpy.ufunc'>\nFile \"../pyem/pyem/util/quat_numba.py\", line 57\n\nFailed at nopython (nopython frontend)\nUntyped global name 'qconj': cannot determine Numba type of <type 'numpy.ufunc'>\nFile \"../pyem/pyem/util/quat_numba.py\", line 57"
     ]
    }
   ],
   "source": [
    "u = np.array([qslerp(qq, pp, t) for t in np.arange(0.1,1.1,0.1)])\n",
    "print u\n",
    "print[quat2euler(uu) for uu in u]"
   ]
  },
  {
   "cell_type": "code",
   "execution_count": 171,
   "metadata": {
    "collapsed": false
   },
   "outputs": [
    {
     "data": {
      "text/plain": [
       "[array([ 0.,  0., -9.]),\n",
       " array([  0.,   0., -18.]),\n",
       " array([  0.,   0., -27.]),\n",
       " array([  0.,   0., -36.]),\n",
       " array([  0.,   0., -45.]),\n",
       " array([  0.,   0., -54.]),\n",
       " array([  0.,   0., -63.]),\n",
       " array([  0.,   0., -72.]),\n",
       " array([  0.,   0., -81.]),\n",
       " array([  0.,   0., -90.])]"
      ]
     },
     "execution_count": 171,
     "metadata": {},
     "output_type": "execute_result"
    }
   ],
   "source": [
    "[np.rad2deg(rot2euler(quat2rot(uu))) for uu in u]"
   ]
  },
  {
   "cell_type": "code",
   "execution_count": null,
   "metadata": {
    "collapsed": true
   },
   "outputs": [],
   "source": []
  }
 ],
 "metadata": {
  "kernelspec": {
   "display_name": "Python 2",
   "language": "python",
   "name": "python2"
  },
  "language_info": {
   "codemirror_mode": {
    "name": "ipython",
    "version": 2
   },
   "file_extension": ".py",
   "mimetype": "text/x-python",
   "name": "python",
   "nbconvert_exporter": "python",
   "pygments_lexer": "ipython2",
   "version": "2.7.13"
  },
  "toc": {
   "toc_cell": false,
   "toc_number_sections": true,
   "toc_threshold": 6,
   "toc_window_display": false
  }
 },
 "nbformat": 4,
 "nbformat_minor": 2
}
